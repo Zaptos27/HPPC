{
 "cells": [
  {
   "cell_type": "code",
   "execution_count": null,
   "id": "dd92b195-2587-4d07-a4e4-05c51bdf4fff",
   "metadata": {},
   "outputs": [],
   "source": [
    "gangs = [1, 2, 3, 4, 5, 6, 7, 8, 9, 10, 11,12,14,16, 20, 24, 32, 48, 64]"
   ]
  },
  {
   "cell_type": "code",
   "execution_count": null,
   "id": "125361e2-aab0-495d-959b-c83af96becbb",
   "metadata": {},
   "outputs": [],
   "source": [
    "time = [259.024, 141.225, 96.312, 74.022, 60.0299, 50.182, 43.3645, 38.8303, 34.6402, 31.8546, 29.0912,27.1628,23.501, 21.6553, 18.3178, 15.7089, 12.8628, 10.1654, 8.78313]"
   ]
  },
  {
   "cell_type": "code",
   "execution_count": null,
   "id": "db9b2b9a-ce70-48c7-a2c9-e5d9aabbeead",
   "metadata": {},
   "outputs": [],
   "source": []
  },
  {
   "cell_type": "code",
   "execution_count": null,
   "id": "ac7710af-2732-4893-a981-26df01cf9263",
   "metadata": {},
   "outputs": [],
   "source": []
  },
  {
   "cell_type": "code",
   "execution_count": null,
   "id": "9b625535-494f-49c4-b916-136eda2748b9",
   "metadata": {},
   "outputs": [],
   "source": []
  },
  {
   "cell_type": "code",
   "execution_count": null,
   "id": "77e13368-88bc-4239-be85-1ec415fdbed9",
   "metadata": {},
   "outputs": [],
   "source": []
  },
  {
   "cell_type": "code",
   "execution_count": null,
   "id": "846bb5f8-9151-4442-aef7-830235d421db",
   "metadata": {},
   "outputs": [],
   "source": [
    "gangs = [1, 4, 16, 64]"
   ]
  },
  {
   "cell_type": "code",
   "execution_count": null,
   "id": "04540e38-8636-45df-9c68-c19e5381a7d3",
   "metadata": {},
   "outputs": [],
   "source": [
    "time= [1.25472, 3.1875, 4.21975, 5.66163]"
   ]
  }
 ],
 "metadata": {
  "kernelspec": {
   "display_name": "Python 3 (ipykernel)",
   "language": "python",
   "name": "python3"
  },
  "language_info": {
   "codemirror_mode": "text/x-c++src",
   "file_extension": ".cpp",
   "mimetype": "text/x-c++src",
   "name": "c++",
   "version": "14"
  }
 },
 "nbformat": 4,
 "nbformat_minor": 5
}
