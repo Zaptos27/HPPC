{
 "cells": [
  {
   "cell_type": "code",
   "execution_count": 75,
   "id": "22b87a6b",
   "metadata": {},
   "outputs": [],
   "source": [
    "import numpy as np\n",
    "import matplotlib.pyplot as plt\n",
    "from matplotlib.animation import FuncAnimation\n",
    "\n",
    "Nx = 512*10\n",
    "Ny = 512*10\n",
    "data = np.fromfile('sw_output.data', np.float32).reshape((-1, Nx, Ny))\n",
    "\n",
    "fig = plt.figure(figsize=(7,7))\n",
    "plot = plt.imshow(data[0], cmap='RdBu_r')\n",
    "colorbar = plt.colorbar()\n",
    "plt.close()\n",
    "def init():\n",
    "    plot.set_data(data[0])\n",
    "    return plot,\n",
    "\n",
    "def update(j):\n",
    "    plot.set_data(data[j])\n",
    "    #if j % 100 == 1:\n",
    "    print(f\"rendered {j+1} frames\")\n",
    "    return plot,\n",
    "\n",
    "\n",
    "anim = FuncAnimation(fig, update, init_func = init, frames=len(data), interval = 100, blit=True)"
   ]
  },
  {
   "cell_type": "code",
   "execution_count": 76,
   "id": "f80cdfce",
   "metadata": {},
   "outputs": [
    {
     "name": "stdout",
     "output_type": "stream",
     "text": [
      "rendered 1 frames\n",
      "rendered 2 frames\n",
      "rendered 3 frames\n",
      "rendered 4 frames\n",
      "rendered 5 frames\n",
      "rendered 6 frames\n",
      "rendered 7 frames\n",
      "rendered 8 frames\n",
      "rendered 9 frames\n",
      "rendered 10 frames\n"
     ]
    }
   ],
   "source": [
    "anim.save(\"video.mp4\", bitrate=-1, dpi=100)"
   ]
  },
  {
   "cell_type": "code",
   "execution_count": 3,
   "id": "2ba3b9bc",
   "metadata": {},
   "outputs": [
    {
     "data": {
      "text/html": [
       "<video src=\"video.mp4\" controls  >\n",
       "      Your browser does not support the <code>video</code> element.\n",
       "    </video>"
      ],
      "text/plain": [
       "<IPython.core.display.Video object>"
      ]
     },
     "execution_count": 3,
     "metadata": {},
     "output_type": "execute_result"
    }
   ],
   "source": [
    "from IPython.display import Video\n",
    "\n",
    "Video(\"video.mp4\")"
   ]
  },
  {
   "cell_type": "code",
   "execution_count": 59,
   "id": "030f57f0",
   "metadata": {},
   "outputs": [],
   "source": [
    "import numpy as np\n",
    "import matplotlib.pyplot as plt\n",
    "from matplotlib.animation import FuncAnimation\n",
    "\n",
    "Nx = 512*10\n",
    "Ny = 512*10\n",
    "data2 = np.fromfile('sw_seq_output.data', np.float32).reshape((-1, Nx, Ny))\n",
    "\n",
    "fig = plt.figure(figsize=(7,7))\n",
    "plot = plt.imshow(data2[0], cmap='RdBu_r')\n",
    "colorbar = plt.colorbar()\n",
    "plt.close()\n",
    "def init():\n",
    "    plot.set_data(data2[0])\n",
    "    return plot,\n",
    "\n",
    "def update(j):\n",
    "    plot.set_data(data2[j])\n",
    "    #if j % 100 == 1:\n",
    "    print(f\"rendered {j+1} frames\")\n",
    "    return plot,\n",
    "\n",
    "\n",
    "anim = FuncAnimation(fig, update, init_func = init, frames=len(data), interval = 100, blit=True)"
   ]
  },
  {
   "cell_type": "code",
   "execution_count": 60,
   "id": "2108a00a-4370-4a94-9bc1-69596908ba92",
   "metadata": {},
   "outputs": [
    {
     "name": "stdout",
     "output_type": "stream",
     "text": [
      "rendered 1 frames\n",
      "rendered 2 frames\n",
      "rendered 3 frames\n",
      "rendered 4 frames\n",
      "rendered 5 frames\n",
      "rendered 6 frames\n",
      "rendered 7 frames\n",
      "rendered 8 frames\n",
      "rendered 9 frames\n",
      "rendered 10 frames\n"
     ]
    }
   ],
   "source": [
    "anim.save(\"video2.mp4\", bitrate=-1, dpi=100)"
   ]
  },
  {
   "cell_type": "code",
   "execution_count": 37,
   "id": "09b2f5c6-da30-4c11-aa70-30c57e51db63",
   "metadata": {},
   "outputs": [
    {
     "data": {
      "text/html": [
       "<video src=\"video.mp4\" controls  >\n",
       "      Your browser does not support the <code>video</code> element.\n",
       "    </video>"
      ],
      "text/plain": [
       "<IPython.core.display.Video object>"
      ]
     },
     "execution_count": 37,
     "metadata": {},
     "output_type": "execute_result"
    }
   ],
   "source": [
    "from IPython.display import Video\n",
    "\n",
    "Video(\"video.mp4\")"
   ]
  },
  {
   "cell_type": "code",
   "execution_count": 17,
   "id": "a5cc9ba3-d02d-4303-9c83-8a88427b195e",
   "metadata": {},
   "outputs": [
    {
     "data": {
      "text/plain": [
       "(0.99615115, 0.0)"
      ]
     },
     "execution_count": 17,
     "metadata": {},
     "output_type": "execute_result"
    }
   ],
   "source": [
    "np.amax(data2),np.amin(data2)"
   ]
  },
  {
   "cell_type": "code",
   "execution_count": null,
   "id": "316818c4-a6dd-4ff8-91d1-853d3c3ece6f",
   "metadata": {},
   "outputs": [],
   "source": []
  },
  {
   "cell_type": "code",
   "execution_count": 77,
   "id": "7fc71ec6-4a70-4771-b8dd-194e14c99716",
   "metadata": {},
   "outputs": [
    {
     "data": {
      "text/plain": [
       "(0.9999992, -2.351452e-37)"
      ]
     },
     "execution_count": 77,
     "metadata": {},
     "output_type": "execute_result"
    }
   ],
   "source": [
    "import numpy as np\n",
    "import matplotlib.pyplot as plt\n",
    "Ny,Nx = 5120, 5120\n",
    "data = np.fromfile('sw_output.data', np.float32).reshape((-1, Nx, Ny))\n",
    "np.amax(data),np.amin(data)"
   ]
  },
  {
   "cell_type": "code",
   "execution_count": 72,
   "id": "b4c36b0c-7524-447f-b938-bf26f9fd3dbe",
   "metadata": {},
   "outputs": [
    {
     "data": {
      "text/plain": [
       "1.0"
      ]
     },
     "execution_count": 72,
     "metadata": {},
     "output_type": "execute_result"
    }
   ],
   "source": [
    "np.amax(data[9])"
   ]
  },
  {
   "cell_type": "code",
   "execution_count": 61,
   "id": "fc675eea-caae-4428-8e42-7e8bd30325ac",
   "metadata": {},
   "outputs": [
    {
     "data": {
      "text/plain": [
       "0.7249905"
      ]
     },
     "execution_count": 61,
     "metadata": {},
     "output_type": "execute_result"
    }
   ],
   "source": [
    "np.amax(data2[9])"
   ]
  },
  {
   "cell_type": "code",
   "execution_count": 57,
   "id": "e05de5f1-6880-4db2-8cd4-bcd50a38aebf",
   "metadata": {},
   "outputs": [
    {
     "data": {
      "text/plain": [
       "<matplotlib.image.AxesImage at 0x7fe80903e880>"
      ]
     },
     "execution_count": 57,
     "metadata": {},
     "output_type": "execute_result"
    },
    {
     "data": {
      "image/png": "[encoded data removed]",
      "text/plain": [
       "<Figure size 640x480 with 1 Axes>"
      ]
     },
     "metadata": {},
     "output_type": "display_data"
    }
   ],
   "source": [
    "plt.imshow(data[9], cmap='RdBu_r')"
   ]
  },
  {
   "cell_type": "code",
   "execution_count": 31,
   "id": "f79c67df-9c3b-40aa-836f-7f0517e7f2eb",
   "metadata": {},
   "outputs": [
    {
     "data": {
      "text/plain": [
       "array([[[0., 0., 0., ..., 0., 0., 0.],\n",
       "        [0., 0., 0., ..., 0., 0., 0.],\n",
       "        [0., 0., 0., ..., 0., 0., 0.],\n",
       "        ...,\n",
       "        [0., 0., 0., ..., 0., 0., 0.],\n",
       "        [0., 0., 0., ..., 0., 0., 0.],\n",
       "        [0., 0., 0., ..., 0., 0., 0.]],\n",
       "\n",
       "       [[0., 0., 0., ..., 0., 0., 0.],\n",
       "        [0., 0., 0., ..., 0., 0., 0.],\n",
       "        [0., 0., 0., ..., 0., 0., 0.],\n",
       "        ...,\n",
       "        [0., 0., 0., ..., 0., 0., 0.],\n",
       "        [0., 0., 0., ..., 0., 0., 0.],\n",
       "        [0., 0., 0., ..., 0., 0., 0.]],\n",
       "\n",
       "       [[0., 0., 0., ..., 0., 0., 0.],\n",
       "        [0., 0., 0., ..., 0., 0., 0.],\n",
       "        [0., 0., 0., ..., 0., 0., 0.],\n",
       "        ...,\n",
       "        [0., 0., 0., ..., 0., 0., 0.],\n",
       "        [0., 0., 0., ..., 0., 0., 0.],\n",
       "        [0., 0., 0., ..., 0., 0., 0.]],\n",
       "\n",
       "       ...,\n",
       "\n",
       "       [[0., 0., 0., ..., 0., 0., 0.],\n",
       "        [0., 0., 0., ..., 0., 0., 0.],\n",
       "        [0., 0., 0., ..., 0., 0., 0.],\n",
       "        ...,\n",
       "        [0., 0., 0., ..., 0., 0., 0.],\n",
       "        [0., 0., 0., ..., 0., 0., 0.],\n",
       "        [0., 0., 0., ..., 0., 0., 0.]],\n",
       "\n",
       "       [[0., 0., 0., ..., 0., 0., 0.],\n",
       "        [0., 0., 0., ..., 0., 0., 0.],\n",
       "        [0., 0., 0., ..., 0., 0., 0.],\n",
       "        ...,\n",
       "        [0., 0., 0., ..., 0., 0., 0.],\n",
       "        [0., 0., 0., ..., 0., 0., 0.],\n",
       "        [0., 0., 0., ..., 0., 0., 0.]],\n",
       "\n",
       "       [[0., 0., 0., ..., 0., 0., 0.],\n",
       "        [0., 0., 0., ..., 0., 0., 0.],\n",
       "        [0., 0., 0., ..., 0., 0., 0.],\n",
       "        ...,\n",
       "        [0., 0., 0., ..., 0., 0., 0.],\n",
       "        [0., 0., 0., ..., 0., 0., 0.],\n",
       "        [0., 0., 0., ..., 0., 0., 0.]]], dtype=float32)"
      ]
     },
     "execution_count": 31,
     "metadata": {},
     "output_type": "execute_result"
    }
   ],
   "source": [
    "data"
   ]
  },
  {
   "cell_type": "code",
   "execution_count": null,
   "id": "b805c778-744f-4997-8b8e-ec5797850e3d",
   "metadata": {},
   "outputs": [],
   "source": []
  }
 ],
 "metadata": {
  "kernelspec": {
   "display_name": "Python 3 (ipykernel)",
   "language": "python",
   "name": "python3"
  },
  "language_info": {
   "codemirror_mode": {
    "name": "ipython",
    "version": 3
   },
   "file_extension": ".py",
   "mimetype": "text/x-python",
   "name": "python",
   "nbconvert_exporter": "python",
   "pygments_lexer": "ipython3",
   "version": "3.8.15"
  }
 },
 "nbformat": 4,
 "nbformat_minor": 5
}
